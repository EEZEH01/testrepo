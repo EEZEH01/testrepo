{
  "cells": [
    {
      "cell_type": "markdown",
      "metadata": {
        "id": "view-in-github",
        "colab_type": "text"
      },
      "source": [
        "<a href=\"https://colab.research.google.com/github/EEZEH01/testrepo/blob/main/Datasciencecosystem.ipynb\" target=\"_parent\"><img src=\"https://colab.research.google.com/assets/colab-badge.svg\" alt=\"Open In Colab\"/></a>"
      ]
    },
    {
      "cell_type": "markdown",
      "id": "1a125a60",
      "metadata": {
        "id": "1a125a60"
      },
      "source": [
        "# Data Science Tools And Ecosystem"
      ]
    },
    {
      "cell_type": "markdown",
      "id": "af49ada7",
      "metadata": {
        "id": "af49ada7"
      },
      "source": [
        "## In this notebook, Data Science Tools and Ecosystems are summarized."
      ]
    },
    {
      "cell_type": "markdown",
      "id": "6af58bbd",
      "metadata": {
        "id": "6af58bbd"
      },
      "source": [
        "**Objectives:**\n",
        "- List popular languages for Data Science\n",
        "- List common libraries for Data Science\n",
        "- Provide some examples of arithmetic expressions in Python"
      ]
    },
    {
      "cell_type": "markdown",
      "id": "268c2b9d",
      "metadata": {
        "id": "268c2b9d"
      },
      "source": [
        "### Some of the popular languages that Data Scientists use are:"
      ]
    },
    {
      "cell_type": "markdown",
      "id": "d18adeab",
      "metadata": {
        "id": "d18adeab"
      },
      "source": [
        "1. Python\n",
        "2. R\n",
        "3. SQL"
      ]
    },
    {
      "cell_type": "markdown",
      "id": "b0a02dcc",
      "metadata": {
        "id": "b0a02dcc"
      },
      "source": [
        "### Some of the commonly used libraries used by data Scientists includes:"
      ]
    },
    {
      "cell_type": "markdown",
      "id": "1db2405d",
      "metadata": {
        "id": "1db2405d"
      },
      "source": [
        "1. NumPy\n",
        "2. Pandas\n",
        "3. Matplotlib"
      ]
    },
    {
      "cell_type": "markdown",
      "id": "d92ddae4",
      "metadata": {
        "id": "d92ddae4"
      },
      "source": [
        "|Data Science Tools|\n",
        "|----|\n",
        "|Jupyter Notebooks|\n",
        "|RStudio|\n",
        "|VS Code|"
      ]
    },
    {
      "cell_type": "markdown",
      "id": "8c4f6f6d",
      "metadata": {
        "id": "8c4f6f6d"
      },
      "source": [
        "### Below are a few examples of evaluating arithmetic expressions in Python"
      ]
    },
    {
      "cell_type": "markdown",
      "id": "4a4ae085",
      "metadata": {
        "id": "4a4ae085"
      },
      "source": [
        "#### This a simple arithmetic expression to mutiply then add integers"
      ]
    },
    {
      "cell_type": "code",
      "execution_count": null,
      "id": "4311e6d3",
      "metadata": {
        "id": "4311e6d3",
        "outputId": "01d55a2e-bff2-4f86-93ff-7a6c778af6e0"
      },
      "outputs": [
        {
          "data": {
            "text/plain": [
              "17"
            ]
          },
          "execution_count": 1,
          "metadata": {},
          "output_type": "execute_result"
        }
      ],
      "source": [
        "(3*4)+5"
      ]
    },
    {
      "cell_type": "markdown",
      "id": "2cd9afca",
      "metadata": {
        "id": "2cd9afca"
      },
      "source": [
        "#### This will convert 200 minutes to hours by dividing by 60"
      ]
    },
    {
      "cell_type": "code",
      "execution_count": null,
      "id": "72a31d6f",
      "metadata": {
        "id": "72a31d6f",
        "outputId": "e4c788f4-db33-40ba-a9de-c69baa96394b"
      },
      "outputs": [
        {
          "data": {
            "text/plain": [
              "3.3333333333333335"
            ]
          },
          "execution_count": 2,
          "metadata": {},
          "output_type": "execute_result"
        }
      ],
      "source": [
        "200/60"
      ]
    },
    {
      "cell_type": "markdown",
      "id": "af02a272",
      "metadata": {
        "id": "af02a272"
      },
      "source": [
        "## Por Esteban Amaya"
      ]
    },
    {
      "cell_type": "markdown",
      "id": "330c106c",
      "metadata": {
        "id": "330c106c"
      },
      "source": []
    }
  ],
  "metadata": {
    "kernelspec": {
      "display_name": "Python 3 (ipykernel)",
      "language": "python",
      "name": "python3"
    },
    "language_info": {
      "codemirror_mode": {
        "name": "ipython",
        "version": 3
      },
      "file_extension": ".py",
      "mimetype": "text/x-python",
      "name": "python",
      "nbconvert_exporter": "python",
      "pygments_lexer": "ipython3",
      "version": "3.10.12"
    },
    "colab": {
      "provenance": [],
      "include_colab_link": true
    }
  },
  "nbformat": 4,
  "nbformat_minor": 5
}